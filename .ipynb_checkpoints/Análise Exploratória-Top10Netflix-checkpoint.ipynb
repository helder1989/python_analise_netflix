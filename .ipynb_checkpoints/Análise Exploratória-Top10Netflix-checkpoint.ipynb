{
 "cells": [
  {
   "cell_type": "markdown",
   "id": "1e1b5f2b",
   "metadata": {},
   "source": [
    "# ANÁLISE TOP 10 DOS PRODUTOS DA NETFLIX\n",
    "\n",
    "## Helder C. Silva\n",
    "\n"
   ]
  },
  {
   "cell_type": "markdown",
   "id": "5b3aebf2",
   "metadata": {},
   "source": [
    "## 1. Introdução\n",
    "\n",
    "\n",
    "A Netflix( https://www.netflix.com/br/) é um serviço de tramissão online que oferece uma ampla variedade de séries, filmes e documentários premiados em milhares de aparelhos conectados à internet, apresentando um atendimento versátil pois é possível assistir aonde e quando quisermos.\n",
    "\n",
    "A base de dados a ser analisada é formada por aquivos CSV que foram obtidos através do Kaggle: (https://www.kaggle.com/datasets/prasertk/netflix-daily-top-10-in-us?select=netflix+daily+top+10.csv) que usou o site (https://www.the-numbers.com/netflix-top-10) e possui apróximadamente 7.100 registros e um tamannho em disco de 456,09 kB; o que possibilita a fácil exploração dessas informações em qualquer computador comum e pessoal.\n",
    "\n",
    "O estudo tem por objetivo realizar análise exploratória, apresentando os títulos que estão como top 10 da Netflix, trazendo insights relevantes e surpreendentes. \n"
   ]
  },
  {
   "cell_type": "markdown",
   "id": "9e0fefd4",
   "metadata": {},
   "source": [
    "## 1.1 Apresentação dos Dados\n",
    "\n",
    "A base explorada contém os seguintes campos, colunas: \n",
    "\n",
    "* **As of**: Levantamento realizar a partir da data;\n",
    "* **Rank**: Classificação;\n",
    "* **Year to Data Rank**: Ano para classificação dos dados;\n",
    "* **Last Week Rank**: Classifcação da semana passada;\n",
    "* **Title**: Título;\n",
    "* **Type**: Modelo;\n",
    "* **Netflix Exclusive**: Exclusivo Netflix;\n",
    "* **Netflix Release Date**: Data de lançamento da Netflix;\n",
    "* **Days In Top 10**: Dias no Top 10;\n",
    "* **Viewership Score**: Pontuação de audiência.\n",
    "\n"
   ]
  },
  {
   "cell_type": "code",
   "execution_count": 1,
   "id": "9a1449d8",
   "metadata": {},
   "outputs": [],
   "source": [
    "import pandas as pd\n",
    "import datetime as dt"
   ]
  },
  {
   "cell_type": "code",
   "execution_count": 2,
   "id": "cbb9dba6",
   "metadata": {},
   "outputs": [
    {
     "ename": "FileNotFoundError",
     "evalue": "[Errno 2] No such file or directory: 'netflix10.csv'",
     "output_type": "error",
     "traceback": [
      "\u001b[1;31m---------------------------------------------------------------------------\u001b[0m",
      "\u001b[1;31mFileNotFoundError\u001b[0m                         Traceback (most recent call last)",
      "Input \u001b[1;32mIn [2]\u001b[0m, in \u001b[0;36m<cell line: 3>\u001b[1;34m()\u001b[0m\n\u001b[0;32m      1\u001b[0m \u001b[38;5;66;03m# Carregando a base de dados\u001b[39;00m\n\u001b[1;32m----> 3\u001b[0m netflix \u001b[38;5;241m=\u001b[39m \u001b[43mpd\u001b[49m\u001b[38;5;241;43m.\u001b[39;49m\u001b[43mread_csv\u001b[49m\u001b[43m(\u001b[49m\u001b[38;5;124;43m\"\u001b[39;49m\u001b[38;5;124;43mnetflix10.csv\u001b[39;49m\u001b[38;5;124;43m\"\u001b[39;49m\u001b[43m)\u001b[49m\n",
      "File \u001b[1;32m~\\anaconda3\\lib\\site-packages\\pandas\\util\\_decorators.py:311\u001b[0m, in \u001b[0;36mdeprecate_nonkeyword_arguments.<locals>.decorate.<locals>.wrapper\u001b[1;34m(*args, **kwargs)\u001b[0m\n\u001b[0;32m    305\u001b[0m \u001b[38;5;28;01mif\u001b[39;00m \u001b[38;5;28mlen\u001b[39m(args) \u001b[38;5;241m>\u001b[39m num_allow_args:\n\u001b[0;32m    306\u001b[0m     warnings\u001b[38;5;241m.\u001b[39mwarn(\n\u001b[0;32m    307\u001b[0m         msg\u001b[38;5;241m.\u001b[39mformat(arguments\u001b[38;5;241m=\u001b[39marguments),\n\u001b[0;32m    308\u001b[0m         \u001b[38;5;167;01mFutureWarning\u001b[39;00m,\n\u001b[0;32m    309\u001b[0m         stacklevel\u001b[38;5;241m=\u001b[39mstacklevel,\n\u001b[0;32m    310\u001b[0m     )\n\u001b[1;32m--> 311\u001b[0m \u001b[38;5;28;01mreturn\u001b[39;00m func(\u001b[38;5;241m*\u001b[39margs, \u001b[38;5;241m*\u001b[39m\u001b[38;5;241m*\u001b[39mkwargs)\n",
      "File \u001b[1;32m~\\anaconda3\\lib\\site-packages\\pandas\\io\\parsers\\readers.py:680\u001b[0m, in \u001b[0;36mread_csv\u001b[1;34m(filepath_or_buffer, sep, delimiter, header, names, index_col, usecols, squeeze, prefix, mangle_dupe_cols, dtype, engine, converters, true_values, false_values, skipinitialspace, skiprows, skipfooter, nrows, na_values, keep_default_na, na_filter, verbose, skip_blank_lines, parse_dates, infer_datetime_format, keep_date_col, date_parser, dayfirst, cache_dates, iterator, chunksize, compression, thousands, decimal, lineterminator, quotechar, quoting, doublequote, escapechar, comment, encoding, encoding_errors, dialect, error_bad_lines, warn_bad_lines, on_bad_lines, delim_whitespace, low_memory, memory_map, float_precision, storage_options)\u001b[0m\n\u001b[0;32m    665\u001b[0m kwds_defaults \u001b[38;5;241m=\u001b[39m _refine_defaults_read(\n\u001b[0;32m    666\u001b[0m     dialect,\n\u001b[0;32m    667\u001b[0m     delimiter,\n\u001b[1;32m   (...)\u001b[0m\n\u001b[0;32m    676\u001b[0m     defaults\u001b[38;5;241m=\u001b[39m{\u001b[38;5;124m\"\u001b[39m\u001b[38;5;124mdelimiter\u001b[39m\u001b[38;5;124m\"\u001b[39m: \u001b[38;5;124m\"\u001b[39m\u001b[38;5;124m,\u001b[39m\u001b[38;5;124m\"\u001b[39m},\n\u001b[0;32m    677\u001b[0m )\n\u001b[0;32m    678\u001b[0m kwds\u001b[38;5;241m.\u001b[39mupdate(kwds_defaults)\n\u001b[1;32m--> 680\u001b[0m \u001b[38;5;28;01mreturn\u001b[39;00m \u001b[43m_read\u001b[49m\u001b[43m(\u001b[49m\u001b[43mfilepath_or_buffer\u001b[49m\u001b[43m,\u001b[49m\u001b[43m \u001b[49m\u001b[43mkwds\u001b[49m\u001b[43m)\u001b[49m\n",
      "File \u001b[1;32m~\\anaconda3\\lib\\site-packages\\pandas\\io\\parsers\\readers.py:575\u001b[0m, in \u001b[0;36m_read\u001b[1;34m(filepath_or_buffer, kwds)\u001b[0m\n\u001b[0;32m    572\u001b[0m _validate_names(kwds\u001b[38;5;241m.\u001b[39mget(\u001b[38;5;124m\"\u001b[39m\u001b[38;5;124mnames\u001b[39m\u001b[38;5;124m\"\u001b[39m, \u001b[38;5;28;01mNone\u001b[39;00m))\n\u001b[0;32m    574\u001b[0m \u001b[38;5;66;03m# Create the parser.\u001b[39;00m\n\u001b[1;32m--> 575\u001b[0m parser \u001b[38;5;241m=\u001b[39m TextFileReader(filepath_or_buffer, \u001b[38;5;241m*\u001b[39m\u001b[38;5;241m*\u001b[39mkwds)\n\u001b[0;32m    577\u001b[0m \u001b[38;5;28;01mif\u001b[39;00m chunksize \u001b[38;5;129;01mor\u001b[39;00m iterator:\n\u001b[0;32m    578\u001b[0m     \u001b[38;5;28;01mreturn\u001b[39;00m parser\n",
      "File \u001b[1;32m~\\anaconda3\\lib\\site-packages\\pandas\\io\\parsers\\readers.py:933\u001b[0m, in \u001b[0;36mTextFileReader.__init__\u001b[1;34m(self, f, engine, **kwds)\u001b[0m\n\u001b[0;32m    930\u001b[0m     \u001b[38;5;28mself\u001b[39m\u001b[38;5;241m.\u001b[39moptions[\u001b[38;5;124m\"\u001b[39m\u001b[38;5;124mhas_index_names\u001b[39m\u001b[38;5;124m\"\u001b[39m] \u001b[38;5;241m=\u001b[39m kwds[\u001b[38;5;124m\"\u001b[39m\u001b[38;5;124mhas_index_names\u001b[39m\u001b[38;5;124m\"\u001b[39m]\n\u001b[0;32m    932\u001b[0m \u001b[38;5;28mself\u001b[39m\u001b[38;5;241m.\u001b[39mhandles: IOHandles \u001b[38;5;241m|\u001b[39m \u001b[38;5;28;01mNone\u001b[39;00m \u001b[38;5;241m=\u001b[39m \u001b[38;5;28;01mNone\u001b[39;00m\n\u001b[1;32m--> 933\u001b[0m \u001b[38;5;28mself\u001b[39m\u001b[38;5;241m.\u001b[39m_engine \u001b[38;5;241m=\u001b[39m \u001b[38;5;28;43mself\u001b[39;49m\u001b[38;5;241;43m.\u001b[39;49m\u001b[43m_make_engine\u001b[49m\u001b[43m(\u001b[49m\u001b[43mf\u001b[49m\u001b[43m,\u001b[49m\u001b[43m \u001b[49m\u001b[38;5;28;43mself\u001b[39;49m\u001b[38;5;241;43m.\u001b[39;49m\u001b[43mengine\u001b[49m\u001b[43m)\u001b[49m\n",
      "File \u001b[1;32m~\\anaconda3\\lib\\site-packages\\pandas\\io\\parsers\\readers.py:1217\u001b[0m, in \u001b[0;36mTextFileReader._make_engine\u001b[1;34m(self, f, engine)\u001b[0m\n\u001b[0;32m   1213\u001b[0m     mode \u001b[38;5;241m=\u001b[39m \u001b[38;5;124m\"\u001b[39m\u001b[38;5;124mrb\u001b[39m\u001b[38;5;124m\"\u001b[39m\n\u001b[0;32m   1214\u001b[0m \u001b[38;5;66;03m# error: No overload variant of \"get_handle\" matches argument types\u001b[39;00m\n\u001b[0;32m   1215\u001b[0m \u001b[38;5;66;03m# \"Union[str, PathLike[str], ReadCsvBuffer[bytes], ReadCsvBuffer[str]]\"\u001b[39;00m\n\u001b[0;32m   1216\u001b[0m \u001b[38;5;66;03m# , \"str\", \"bool\", \"Any\", \"Any\", \"Any\", \"Any\", \"Any\"\u001b[39;00m\n\u001b[1;32m-> 1217\u001b[0m \u001b[38;5;28mself\u001b[39m\u001b[38;5;241m.\u001b[39mhandles \u001b[38;5;241m=\u001b[39m \u001b[43mget_handle\u001b[49m\u001b[43m(\u001b[49m\u001b[43m  \u001b[49m\u001b[38;5;66;43;03m# type: ignore[call-overload]\u001b[39;49;00m\n\u001b[0;32m   1218\u001b[0m \u001b[43m    \u001b[49m\u001b[43mf\u001b[49m\u001b[43m,\u001b[49m\n\u001b[0;32m   1219\u001b[0m \u001b[43m    \u001b[49m\u001b[43mmode\u001b[49m\u001b[43m,\u001b[49m\n\u001b[0;32m   1220\u001b[0m \u001b[43m    \u001b[49m\u001b[43mencoding\u001b[49m\u001b[38;5;241;43m=\u001b[39;49m\u001b[38;5;28;43mself\u001b[39;49m\u001b[38;5;241;43m.\u001b[39;49m\u001b[43moptions\u001b[49m\u001b[38;5;241;43m.\u001b[39;49m\u001b[43mget\u001b[49m\u001b[43m(\u001b[49m\u001b[38;5;124;43m\"\u001b[39;49m\u001b[38;5;124;43mencoding\u001b[39;49m\u001b[38;5;124;43m\"\u001b[39;49m\u001b[43m,\u001b[49m\u001b[43m \u001b[49m\u001b[38;5;28;43;01mNone\u001b[39;49;00m\u001b[43m)\u001b[49m\u001b[43m,\u001b[49m\n\u001b[0;32m   1221\u001b[0m \u001b[43m    \u001b[49m\u001b[43mcompression\u001b[49m\u001b[38;5;241;43m=\u001b[39;49m\u001b[38;5;28;43mself\u001b[39;49m\u001b[38;5;241;43m.\u001b[39;49m\u001b[43moptions\u001b[49m\u001b[38;5;241;43m.\u001b[39;49m\u001b[43mget\u001b[49m\u001b[43m(\u001b[49m\u001b[38;5;124;43m\"\u001b[39;49m\u001b[38;5;124;43mcompression\u001b[39;49m\u001b[38;5;124;43m\"\u001b[39;49m\u001b[43m,\u001b[49m\u001b[43m \u001b[49m\u001b[38;5;28;43;01mNone\u001b[39;49;00m\u001b[43m)\u001b[49m\u001b[43m,\u001b[49m\n\u001b[0;32m   1222\u001b[0m \u001b[43m    \u001b[49m\u001b[43mmemory_map\u001b[49m\u001b[38;5;241;43m=\u001b[39;49m\u001b[38;5;28;43mself\u001b[39;49m\u001b[38;5;241;43m.\u001b[39;49m\u001b[43moptions\u001b[49m\u001b[38;5;241;43m.\u001b[39;49m\u001b[43mget\u001b[49m\u001b[43m(\u001b[49m\u001b[38;5;124;43m\"\u001b[39;49m\u001b[38;5;124;43mmemory_map\u001b[39;49m\u001b[38;5;124;43m\"\u001b[39;49m\u001b[43m,\u001b[49m\u001b[43m \u001b[49m\u001b[38;5;28;43;01mFalse\u001b[39;49;00m\u001b[43m)\u001b[49m\u001b[43m,\u001b[49m\n\u001b[0;32m   1223\u001b[0m \u001b[43m    \u001b[49m\u001b[43mis_text\u001b[49m\u001b[38;5;241;43m=\u001b[39;49m\u001b[43mis_text\u001b[49m\u001b[43m,\u001b[49m\n\u001b[0;32m   1224\u001b[0m \u001b[43m    \u001b[49m\u001b[43merrors\u001b[49m\u001b[38;5;241;43m=\u001b[39;49m\u001b[38;5;28;43mself\u001b[39;49m\u001b[38;5;241;43m.\u001b[39;49m\u001b[43moptions\u001b[49m\u001b[38;5;241;43m.\u001b[39;49m\u001b[43mget\u001b[49m\u001b[43m(\u001b[49m\u001b[38;5;124;43m\"\u001b[39;49m\u001b[38;5;124;43mencoding_errors\u001b[39;49m\u001b[38;5;124;43m\"\u001b[39;49m\u001b[43m,\u001b[49m\u001b[43m \u001b[49m\u001b[38;5;124;43m\"\u001b[39;49m\u001b[38;5;124;43mstrict\u001b[39;49m\u001b[38;5;124;43m\"\u001b[39;49m\u001b[43m)\u001b[49m\u001b[43m,\u001b[49m\n\u001b[0;32m   1225\u001b[0m \u001b[43m    \u001b[49m\u001b[43mstorage_options\u001b[49m\u001b[38;5;241;43m=\u001b[39;49m\u001b[38;5;28;43mself\u001b[39;49m\u001b[38;5;241;43m.\u001b[39;49m\u001b[43moptions\u001b[49m\u001b[38;5;241;43m.\u001b[39;49m\u001b[43mget\u001b[49m\u001b[43m(\u001b[49m\u001b[38;5;124;43m\"\u001b[39;49m\u001b[38;5;124;43mstorage_options\u001b[39;49m\u001b[38;5;124;43m\"\u001b[39;49m\u001b[43m,\u001b[49m\u001b[43m \u001b[49m\u001b[38;5;28;43;01mNone\u001b[39;49;00m\u001b[43m)\u001b[49m\u001b[43m,\u001b[49m\n\u001b[0;32m   1226\u001b[0m \u001b[43m\u001b[49m\u001b[43m)\u001b[49m\n\u001b[0;32m   1227\u001b[0m \u001b[38;5;28;01massert\u001b[39;00m \u001b[38;5;28mself\u001b[39m\u001b[38;5;241m.\u001b[39mhandles \u001b[38;5;129;01mis\u001b[39;00m \u001b[38;5;129;01mnot\u001b[39;00m \u001b[38;5;28;01mNone\u001b[39;00m\n\u001b[0;32m   1228\u001b[0m f \u001b[38;5;241m=\u001b[39m \u001b[38;5;28mself\u001b[39m\u001b[38;5;241m.\u001b[39mhandles\u001b[38;5;241m.\u001b[39mhandle\n",
      "File \u001b[1;32m~\\anaconda3\\lib\\site-packages\\pandas\\io\\common.py:789\u001b[0m, in \u001b[0;36mget_handle\u001b[1;34m(path_or_buf, mode, encoding, compression, memory_map, is_text, errors, storage_options)\u001b[0m\n\u001b[0;32m    784\u001b[0m \u001b[38;5;28;01melif\u001b[39;00m \u001b[38;5;28misinstance\u001b[39m(handle, \u001b[38;5;28mstr\u001b[39m):\n\u001b[0;32m    785\u001b[0m     \u001b[38;5;66;03m# Check whether the filename is to be opened in binary mode.\u001b[39;00m\n\u001b[0;32m    786\u001b[0m     \u001b[38;5;66;03m# Binary mode does not support 'encoding' and 'newline'.\u001b[39;00m\n\u001b[0;32m    787\u001b[0m     \u001b[38;5;28;01mif\u001b[39;00m ioargs\u001b[38;5;241m.\u001b[39mencoding \u001b[38;5;129;01mand\u001b[39;00m \u001b[38;5;124m\"\u001b[39m\u001b[38;5;124mb\u001b[39m\u001b[38;5;124m\"\u001b[39m \u001b[38;5;129;01mnot\u001b[39;00m \u001b[38;5;129;01min\u001b[39;00m ioargs\u001b[38;5;241m.\u001b[39mmode:\n\u001b[0;32m    788\u001b[0m         \u001b[38;5;66;03m# Encoding\u001b[39;00m\n\u001b[1;32m--> 789\u001b[0m         handle \u001b[38;5;241m=\u001b[39m \u001b[38;5;28;43mopen\u001b[39;49m\u001b[43m(\u001b[49m\n\u001b[0;32m    790\u001b[0m \u001b[43m            \u001b[49m\u001b[43mhandle\u001b[49m\u001b[43m,\u001b[49m\n\u001b[0;32m    791\u001b[0m \u001b[43m            \u001b[49m\u001b[43mioargs\u001b[49m\u001b[38;5;241;43m.\u001b[39;49m\u001b[43mmode\u001b[49m\u001b[43m,\u001b[49m\n\u001b[0;32m    792\u001b[0m \u001b[43m            \u001b[49m\u001b[43mencoding\u001b[49m\u001b[38;5;241;43m=\u001b[39;49m\u001b[43mioargs\u001b[49m\u001b[38;5;241;43m.\u001b[39;49m\u001b[43mencoding\u001b[49m\u001b[43m,\u001b[49m\n\u001b[0;32m    793\u001b[0m \u001b[43m            \u001b[49m\u001b[43merrors\u001b[49m\u001b[38;5;241;43m=\u001b[39;49m\u001b[43merrors\u001b[49m\u001b[43m,\u001b[49m\n\u001b[0;32m    794\u001b[0m \u001b[43m            \u001b[49m\u001b[43mnewline\u001b[49m\u001b[38;5;241;43m=\u001b[39;49m\u001b[38;5;124;43m\"\u001b[39;49m\u001b[38;5;124;43m\"\u001b[39;49m\u001b[43m,\u001b[49m\n\u001b[0;32m    795\u001b[0m \u001b[43m        \u001b[49m\u001b[43m)\u001b[49m\n\u001b[0;32m    796\u001b[0m     \u001b[38;5;28;01melse\u001b[39;00m:\n\u001b[0;32m    797\u001b[0m         \u001b[38;5;66;03m# Binary mode\u001b[39;00m\n\u001b[0;32m    798\u001b[0m         handle \u001b[38;5;241m=\u001b[39m \u001b[38;5;28mopen\u001b[39m(handle, ioargs\u001b[38;5;241m.\u001b[39mmode)\n",
      "\u001b[1;31mFileNotFoundError\u001b[0m: [Errno 2] No such file or directory: 'netflix10.csv'"
     ]
    }
   ],
   "source": [
    "# Carregando a base de dados\n",
    "\n",
    "netflix = pd.read_csv(\"netflix10.csv\")"
   ]
  },
  {
   "cell_type": "markdown",
   "id": "0e83bb33",
   "metadata": {},
   "source": [
    "## 1.2 Visualização da base "
   ]
  },
  {
   "cell_type": "code",
   "execution_count": null,
   "id": "9f2c299d",
   "metadata": {},
   "outputs": [],
   "source": [
    "# Visualizar as 5 primeiras e 5 últimas linhas da nossa base\n",
    "display(netflix)"
   ]
  },
  {
   "cell_type": "markdown",
   "id": "215a26e8",
   "metadata": {},
   "source": [
    "## 1.3 Verificar valores nulos"
   ]
  },
  {
   "cell_type": "code",
   "execution_count": null,
   "id": "621c146f",
   "metadata": {},
   "outputs": [],
   "source": [
    "netflix.isnull().sum()"
   ]
  },
  {
   "cell_type": "markdown",
   "id": "ae90155c",
   "metadata": {},
   "source": [
    "## 1.4 Tipo dos dados"
   ]
  },
  {
   "cell_type": "code",
   "execution_count": null,
   "id": "8759b29e",
   "metadata": {},
   "outputs": [],
   "source": [
    "netflix.dtypes"
   ]
  },
  {
   "cell_type": "markdown",
   "id": "68dcc7e5",
   "metadata": {},
   "source": [
    "## 2. Período no qual foi feito o levantamento dos dados"
   ]
  },
  {
   "cell_type": "code",
   "execution_count": null,
   "id": "73825f41",
   "metadata": {},
   "outputs": [],
   "source": [
    "inicio = pd.to_datetime(netflix['As of']).dt.date.min()\n",
    "print(inicio)"
   ]
  },
  {
   "cell_type": "code",
   "execution_count": null,
   "id": "cdd72202",
   "metadata": {},
   "outputs": [],
   "source": [
    "fim = pd.to_datetime(netflix['As of']).dt.date.max()\n",
    "print(fim)"
   ]
  },
  {
   "cell_type": "markdown",
   "id": "d59341e5",
   "metadata": {},
   "source": [
    "## 2.1 Alisando as informações estatísticas"
   ]
  },
  {
   "cell_type": "code",
   "execution_count": null,
   "id": "2ebb5b14",
   "metadata": {},
   "outputs": [],
   "source": [
    "netflix.describe()"
   ]
  },
  {
   "cell_type": "markdown",
   "id": "6df42d90",
   "metadata": {},
   "source": [
    "## 2.2 Entendo melhor as informações acima"
   ]
  },
  {
   "cell_type": "code",
   "execution_count": null,
   "id": "bb6bbecf",
   "metadata": {},
   "outputs": [],
   "source": [
    "netflix.plot(kind='box', figsize=(10,6),subplots=True);"
   ]
  },
  {
   "cell_type": "markdown",
   "id": "d18e06a4",
   "metadata": {},
   "source": [
    "Os dados no **Rank** vai de 1 até 10, ou seja, os dados estão distrubuídos pois todos os dias terão filmes classificados. "
   ]
  },
  {
   "cell_type": "code",
   "execution_count": null,
   "id": "25ec24c8",
   "metadata": {},
   "outputs": [],
   "source": [
    "netflix[netflix[ 'Days In Top 10']>=80]"
   ]
  },
  {
   "cell_type": "markdown",
   "id": "f1406a93",
   "metadata": {},
   "source": [
    "Por curiosidade verifiquei que o título '**CoComelon**' aparece mais 80 dias no em top 10. Inclusive realizei uma pesquisa no qual soube que se trata de uma série infantil, musical e educativa. "
   ]
  },
  {
   "cell_type": "markdown",
   "id": "6b3b5c96",
   "metadata": {},
   "source": [
    "## 2.3 Analisando com mais detalhes algumas informações"
   ]
  },
  {
   "cell_type": "code",
   "execution_count": null,
   "id": "44345294",
   "metadata": {},
   "outputs": [],
   "source": [
    "# Apresentar quantas vezes cada título na base\n",
    "netflix.Title.value_counts()"
   ]
  },
  {
   "cell_type": "markdown",
   "id": "2bb78848",
   "metadata": {},
   "source": [
    "Um dos insights é que **'CoComelon'** que é uma seríe foi um dos melhores investimentos que a Netflix realizou, pois o mesmo aparece em nossa base de dados por um período 428 dias no top 10 de **'Ozark'** e **Cobra Kai'**. "
   ]
  },
  {
   "cell_type": "code",
   "execution_count": null,
   "id": "afad461e",
   "metadata": {},
   "outputs": [],
   "source": [
    "# Lavantamento dos tipos de conteúdos que constam no top 10\n",
    "netflix.Type.value_counts().plot(kind='bar');"
   ]
  },
  {
   "cell_type": "markdown",
   "id": "c1c64e08",
   "metadata": {},
   "source": [
    "Através do gráfico é possível identificar que o tipo de conteúdo que são mais acessados, assistidos são filmes ou séries, entre outros. Contudo a maioria dos títulos registrados no top 10 são **TV show**(séries) e depois **Move**(filmes)."
   ]
  },
  {
   "cell_type": "code",
   "execution_count": null,
   "id": "c7dd2336",
   "metadata": {},
   "outputs": [],
   "source": [
    "# Pontuação audiência\n",
    "netflix['Viewership Score'].hist();"
   ]
  },
  {
   "cell_type": "markdown",
   "id": "a4845b2f",
   "metadata": {},
   "source": [
    "Nesse momento fui através da orientação em relação à essa coluna **'Viewership Score'**, no qual representa que à audiência é uma pontuação atribuída a cada programa com base em sua classificação diária histórica, destinando 10 pontos para o título que aparece na 1ª posição e 9 pontos para o que segue na 2ª posição. Observando também que os filmes ficam pouco tempo no rank, até mesmo por outros lançamentos de filmes que são feitos diariamente. "
   ]
  },
  {
   "cell_type": "code",
   "execution_count": null,
   "id": "c26e2acf",
   "metadata": {},
   "outputs": [],
   "source": [
    "# Resultado do que mais ganhou ponto em relação à audiência\n",
    "netflix[netflix['Viewership Score'] == netflix['Viewership Score'].max()]"
   ]
  },
  {
   "cell_type": "markdown",
   "id": "55f64b72",
   "metadata": {},
   "source": [
    "Nesse caso o **CoComelon** ficou com a maior pontuação, pois o mesmo permaneceu muitos dias no top 10, trazendo assim um índice de audiência destaque. "
   ]
  },
  {
   "cell_type": "markdown",
   "id": "a291a25d",
   "metadata": {},
   "source": [
    "## 3. Conclusão"
   ]
  },
  {
   "cell_type": "markdown",
   "id": "f6a2a15f",
   "metadata": {},
   "source": [
    "Conclui-se através da análise exploratória realizada primeiramente o quão é relevante esse tipo de estudo, pois nos mostra que para de fato criar estratégias cada vez mais assertivas devemos observar os dados, \"ouvi-lós\". Tendo em vista que antes dessa verificação pensava que em uma lista de top 10 da Netflix seria composta em grande parte por títulos famosos e mais comentados inclusive nas redes sociais. Contudo os dados trouxeram uma visão fora do senso comum no qual o **CoComelon** ficou no topo do rank por muitos dias, ou seja, acredito que é um insight relavante pra tomada de decisões, definição de investimentos, oferta e otimização de custos,uma vez que apresentamos a \"voz\" do cliente através dos dados. "
   ]
  },
  {
   "cell_type": "code",
   "execution_count": null,
   "id": "ce41c79d",
   "metadata": {},
   "outputs": [],
   "source": []
  }
 ],
 "metadata": {
  "kernelspec": {
   "display_name": "Python 3 (ipykernel)",
   "language": "python",
   "name": "python3"
  },
  "language_info": {
   "codemirror_mode": {
    "name": "ipython",
    "version": 3
   },
   "file_extension": ".py",
   "mimetype": "text/x-python",
   "name": "python",
   "nbconvert_exporter": "python",
   "pygments_lexer": "ipython3",
   "version": "3.9.12"
  }
 },
 "nbformat": 4,
 "nbformat_minor": 5
}
